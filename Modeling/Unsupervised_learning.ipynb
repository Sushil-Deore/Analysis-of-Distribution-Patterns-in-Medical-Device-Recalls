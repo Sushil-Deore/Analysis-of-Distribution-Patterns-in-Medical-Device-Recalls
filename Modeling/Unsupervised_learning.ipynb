{
 "cells": [
  {
   "cell_type": "code",
   "execution_count": 1,
   "metadata": {},
   "outputs": [],
   "source": [
    "# Importing libraries\n",
    "\n",
    "import pandas as pd\n",
    "import matplotlib.pyplot as plt\n",
    "import seaborn as sns\n",
    "import warnings\n",
    "from sklearn import *\n",
    "warnings.filterwarnings('ignore')\n",
    "\n",
    "\n",
    "# Setting the maximum number of displayed columns to 'None' (unlimited)\n",
    "pd.set_option(\"display.max_columns\", None)\n",
    "\n",
    "# Setting the maximum number of displayed rows to 'None' (unlimited)\n",
    "pd.set_option(\"display.max_row\", None)"
   ]
  },
  {
   "cell_type": "code",
   "execution_count": 2,
   "metadata": {},
   "outputs": [],
   "source": [
    "# Reading clean_openFDA file\n",
    "df_openFDA = pd.read_csv('../clean_openFDA.csv')"
   ]
  },
  {
   "cell_type": "code",
   "execution_count": 3,
   "metadata": {},
   "outputs": [
    {
     "name": "stdout",
     "output_type": "stream",
     "text": [
      "<class 'pandas.core.frame.DataFrame'>\n",
      "RangeIndex: 8724 entries, 0 to 8723\n",
      "Data columns (total 17 columns):\n",
      " #   Column                       Non-Null Count  Dtype  \n",
      "---  ------                       --------------  -----  \n",
      " 0   Unnamed: 0                   8724 non-null   int64  \n",
      " 1   state                        8724 non-null   object \n",
      " 2   root_cause_description       8724 non-null   object \n",
      " 3   openfda.device_class         8724 non-null   object \n",
      " 4   time_duration                8724 non-null   int64  \n",
      " 5   event_month_posted           8724 non-null   int64  \n",
      " 6   event_year_posted            8724 non-null   int64  \n",
      " 7   day_of_week_posted           8724 non-null   int64  \n",
      " 8   event_month_terminated       8724 non-null   int64  \n",
      " 9   event_year_terminated        8724 non-null   int64  \n",
      " 10  day_of_week_terminated       8724 non-null   int64  \n",
      " 11  product_quantity_cleaned     8724 non-null   int64  \n",
      " 12  cost_to_recall_in_dollers    8724 non-null   float64\n",
      " 13  distribution                 8724 non-null   object \n",
      " 14  cleaned_reason_for_recall    8724 non-null   object \n",
      " 15  cleaned_product_description  8724 non-null   object \n",
      " 16  cleaned_action               8724 non-null   object \n",
      "dtypes: float64(1), int64(9), object(7)\n",
      "memory usage: 1.1+ MB\n"
     ]
    }
   ],
   "source": [
    "# Checking dataframe structure\n",
    "df_openFDA.info()"
   ]
  },
  {
   "cell_type": "code",
   "execution_count": 4,
   "metadata": {},
   "outputs": [
    {
     "data": {
      "text/plain": [
       "(8724, 17)"
      ]
     },
     "execution_count": 4,
     "metadata": {},
     "output_type": "execute_result"
    }
   ],
   "source": [
    "# Checking number of columns and rows\n",
    "df_openFDA.shape"
   ]
  },
  {
   "cell_type": "code",
   "execution_count": 5,
   "metadata": {},
   "outputs": [
    {
     "data": {
      "text/html": [
       "<div>\n",
       "<style scoped>\n",
       "    .dataframe tbody tr th:only-of-type {\n",
       "        vertical-align: middle;\n",
       "    }\n",
       "\n",
       "    .dataframe tbody tr th {\n",
       "        vertical-align: top;\n",
       "    }\n",
       "\n",
       "    .dataframe thead th {\n",
       "        text-align: right;\n",
       "    }\n",
       "</style>\n",
       "<table border=\"1\" class=\"dataframe\">\n",
       "  <thead>\n",
       "    <tr style=\"text-align: right;\">\n",
       "      <th></th>\n",
       "      <th>state</th>\n",
       "      <th>root_cause_description</th>\n",
       "      <th>openfda.device_class</th>\n",
       "      <th>time_duration</th>\n",
       "      <th>event_month_posted</th>\n",
       "      <th>event_year_posted</th>\n",
       "      <th>day_of_week_posted</th>\n",
       "      <th>event_month_terminated</th>\n",
       "      <th>event_year_terminated</th>\n",
       "      <th>day_of_week_terminated</th>\n",
       "      <th>product_quantity_cleaned</th>\n",
       "      <th>cost_to_recall_in_dollers</th>\n",
       "      <th>distribution</th>\n",
       "      <th>cleaned_reason_for_recall</th>\n",
       "      <th>cleaned_product_description</th>\n",
       "      <th>cleaned_action</th>\n",
       "    </tr>\n",
       "  </thead>\n",
       "  <tbody>\n",
       "    <tr>\n",
       "      <th>0</th>\n",
       "      <td>IL</td>\n",
       "      <td>Device Design</td>\n",
       "      <td>Class II</td>\n",
       "      <td>648</td>\n",
       "      <td>11</td>\n",
       "      <td>2007</td>\n",
       "      <td>5</td>\n",
       "      <td>8</td>\n",
       "      <td>2009</td>\n",
       "      <td>2</td>\n",
       "      <td>311</td>\n",
       "      <td>248800.00</td>\n",
       "      <td>Worldwide distribution</td>\n",
       "      <td>biologic system corp camera pole may weaken an...</td>\n",
       "      <td>biologic system corp telescoping camera pole a...</td>\n",
       "      <td>biologic sent a safety alert letters dated  to...</td>\n",
       "    </tr>\n",
       "    <tr>\n",
       "      <th>1</th>\n",
       "      <td>WA</td>\n",
       "      <td>Software design</td>\n",
       "      <td>Class III</td>\n",
       "      <td>641</td>\n",
       "      <td>1</td>\n",
       "      <td>2009</td>\n",
       "      <td>0</td>\n",
       "      <td>10</td>\n",
       "      <td>2010</td>\n",
       "      <td>4</td>\n",
       "      <td>19</td>\n",
       "      <td>16264.00</td>\n",
       "      <td>Nationwide distribution</td>\n",
       "      <td>an issue associated with the timed scan applic...</td>\n",
       "      <td>neuviz dual multislice computed tomography ct ...</td>\n",
       "      <td>a letter was issued to customers prior to the ...</td>\n",
       "    </tr>\n",
       "    <tr>\n",
       "      <th>2</th>\n",
       "      <td>CA</td>\n",
       "      <td>Device Design</td>\n",
       "      <td>Class III</td>\n",
       "      <td>415</td>\n",
       "      <td>10</td>\n",
       "      <td>2009</td>\n",
       "      <td>0</td>\n",
       "      <td>11</td>\n",
       "      <td>2010</td>\n",
       "      <td>2</td>\n",
       "      <td>2246</td>\n",
       "      <td>1078080.00</td>\n",
       "      <td>Worldwide distribution</td>\n",
       "      <td>failure product can kink or ovalize which may ...</td>\n",
       "      <td>penumbra neuron delivery catheter   percutaneo...</td>\n",
       "      <td>the firm issued an urgent voluntary field remo...</td>\n",
       "    </tr>\n",
       "    <tr>\n",
       "      <th>3</th>\n",
       "      <td>IL</td>\n",
       "      <td>Device Design</td>\n",
       "      <td>Class II</td>\n",
       "      <td>776</td>\n",
       "      <td>10</td>\n",
       "      <td>2010</td>\n",
       "      <td>1</td>\n",
       "      <td>11</td>\n",
       "      <td>2012</td>\n",
       "      <td>0</td>\n",
       "      <td>221097</td>\n",
       "      <td>4421.94</td>\n",
       "      <td>Nationwide distribution</td>\n",
       "      <td>the fda sent a letter to baxter on april   ord...</td>\n",
       "      <td>baxter colleague single channel volumetric inf...</td>\n",
       "      <td>baxter healthcare corporation sent urgent prod...</td>\n",
       "    </tr>\n",
       "    <tr>\n",
       "      <th>4</th>\n",
       "      <td>CO</td>\n",
       "      <td>Labeling design</td>\n",
       "      <td>Class II</td>\n",
       "      <td>0</td>\n",
       "      <td>10</td>\n",
       "      <td>2011</td>\n",
       "      <td>0</td>\n",
       "      <td>10</td>\n",
       "      <td>2011</td>\n",
       "      <td>0</td>\n",
       "      <td>6</td>\n",
       "      <td>5562.00</td>\n",
       "      <td>Worldwide distribution</td>\n",
       "      <td>distal end of tactile probe may break off duri...</td>\n",
       "      <td>probe tactile left asm long \\npart s \\nmedtron...</td>\n",
       "      <td>medtronic sent an urgent product safety notice...</td>\n",
       "    </tr>\n",
       "  </tbody>\n",
       "</table>\n",
       "</div>"
      ],
      "text/plain": [
       "  state root_cause_description openfda.device_class  time_duration  \\\n",
       "0    IL          Device Design             Class II            648   \n",
       "1    WA        Software design            Class III            641   \n",
       "2    CA          Device Design            Class III            415   \n",
       "3    IL          Device Design             Class II            776   \n",
       "4    CO        Labeling design             Class II              0   \n",
       "\n",
       "   event_month_posted  event_year_posted  day_of_week_posted  \\\n",
       "0                  11               2007                   5   \n",
       "1                   1               2009                   0   \n",
       "2                  10               2009                   0   \n",
       "3                  10               2010                   1   \n",
       "4                  10               2011                   0   \n",
       "\n",
       "   event_month_terminated  event_year_terminated  day_of_week_terminated  \\\n",
       "0                       8                   2009                       2   \n",
       "1                      10                   2010                       4   \n",
       "2                      11                   2010                       2   \n",
       "3                      11                   2012                       0   \n",
       "4                      10                   2011                       0   \n",
       "\n",
       "   product_quantity_cleaned  cost_to_recall_in_dollers  \\\n",
       "0                       311                  248800.00   \n",
       "1                        19                   16264.00   \n",
       "2                      2246                 1078080.00   \n",
       "3                    221097                    4421.94   \n",
       "4                         6                    5562.00   \n",
       "\n",
       "              distribution                          cleaned_reason_for_recall  \\\n",
       "0   Worldwide distribution  biologic system corp camera pole may weaken an...   \n",
       "1  Nationwide distribution  an issue associated with the timed scan applic...   \n",
       "2   Worldwide distribution  failure product can kink or ovalize which may ...   \n",
       "3  Nationwide distribution  the fda sent a letter to baxter on april   ord...   \n",
       "4   Worldwide distribution  distal end of tactile probe may break off duri...   \n",
       "\n",
       "                         cleaned_product_description  \\\n",
       "0  biologic system corp telescoping camera pole a...   \n",
       "1  neuviz dual multislice computed tomography ct ...   \n",
       "2  penumbra neuron delivery catheter   percutaneo...   \n",
       "3  baxter colleague single channel volumetric inf...   \n",
       "4  probe tactile left asm long \\npart s \\nmedtron...   \n",
       "\n",
       "                                      cleaned_action  \n",
       "0  biologic sent a safety alert letters dated  to...  \n",
       "1  a letter was issued to customers prior to the ...  \n",
       "2  the firm issued an urgent voluntary field remo...  \n",
       "3  baxter healthcare corporation sent urgent prod...  \n",
       "4  medtronic sent an urgent product safety notice...  "
      ]
     },
     "execution_count": 5,
     "metadata": {},
     "output_type": "execute_result"
    }
   ],
   "source": [
    "# Dropping column \"Unnamed: 0\"\n",
    "df_openFDA = df_openFDA.drop('Unnamed: 0', axis=1)\n",
    "\n",
    "# Checking dataframe again\n",
    "df_openFDA.head()"
   ]
  },
  {
   "cell_type": "markdown",
   "metadata": {},
   "source": [
    "## Clustering\n",
    "### Clustering - KMeans"
   ]
  },
  {
   "cell_type": "code",
   "execution_count": 9,
   "metadata": {},
   "outputs": [
    {
     "data": {
      "text/plain": [
       "Index(['time_duration', 'product_quantity_cleaned',\n",
       "       'cost_to_recall_in_dollers'],\n",
       "      dtype='object')"
      ]
     },
     "execution_count": 9,
     "metadata": {},
     "output_type": "execute_result"
    }
   ],
   "source": [
    "# Selecting numerical datatypes\n",
    "num_col = df_openFDA[['time_duration', \n",
    "                      'product_quantity_cleaned', \n",
    "                      'cost_to_recall_in_dollers']].columns\n",
    "\n",
    "# Displaying the columns that are considered numerical\n",
    "num_col"
   ]
  },
  {
   "cell_type": "code",
   "execution_count": 10,
   "metadata": {},
   "outputs": [
    {
     "data": {
      "text/html": [
       "<div>\n",
       "<style scoped>\n",
       "    .dataframe tbody tr th:only-of-type {\n",
       "        vertical-align: middle;\n",
       "    }\n",
       "\n",
       "    .dataframe tbody tr th {\n",
       "        vertical-align: top;\n",
       "    }\n",
       "\n",
       "    .dataframe thead th {\n",
       "        text-align: right;\n",
       "    }\n",
       "</style>\n",
       "<table border=\"1\" class=\"dataframe\">\n",
       "  <thead>\n",
       "    <tr style=\"text-align: right;\">\n",
       "      <th></th>\n",
       "      <th>time_duration</th>\n",
       "      <th>product_quantity_cleaned</th>\n",
       "      <th>cost_to_recall_in_dollers</th>\n",
       "    </tr>\n",
       "  </thead>\n",
       "  <tbody>\n",
       "    <tr>\n",
       "      <th>0</th>\n",
       "      <td>648</td>\n",
       "      <td>311</td>\n",
       "      <td>248800.00</td>\n",
       "    </tr>\n",
       "    <tr>\n",
       "      <th>1</th>\n",
       "      <td>641</td>\n",
       "      <td>19</td>\n",
       "      <td>16264.00</td>\n",
       "    </tr>\n",
       "    <tr>\n",
       "      <th>2</th>\n",
       "      <td>415</td>\n",
       "      <td>2246</td>\n",
       "      <td>1078080.00</td>\n",
       "    </tr>\n",
       "    <tr>\n",
       "      <th>3</th>\n",
       "      <td>776</td>\n",
       "      <td>221097</td>\n",
       "      <td>4421.94</td>\n",
       "    </tr>\n",
       "    <tr>\n",
       "      <th>4</th>\n",
       "      <td>0</td>\n",
       "      <td>6</td>\n",
       "      <td>5562.00</td>\n",
       "    </tr>\n",
       "    <tr>\n",
       "      <th>5</th>\n",
       "      <td>1074</td>\n",
       "      <td>1602</td>\n",
       "      <td>714492.00</td>\n",
       "    </tr>\n",
       "    <tr>\n",
       "      <th>6</th>\n",
       "      <td>1654</td>\n",
       "      <td>10</td>\n",
       "      <td>8730.00</td>\n",
       "    </tr>\n",
       "    <tr>\n",
       "      <th>7</th>\n",
       "      <td>835</td>\n",
       "      <td>129</td>\n",
       "      <td>117519.00</td>\n",
       "    </tr>\n",
       "    <tr>\n",
       "      <th>8</th>\n",
       "      <td>776</td>\n",
       "      <td>81775</td>\n",
       "      <td>1308400.00</td>\n",
       "    </tr>\n",
       "    <tr>\n",
       "      <th>9</th>\n",
       "      <td>0</td>\n",
       "      <td>6</td>\n",
       "      <td>4872.00</td>\n",
       "    </tr>\n",
       "  </tbody>\n",
       "</table>\n",
       "</div>"
      ],
      "text/plain": [
       "   time_duration  product_quantity_cleaned  cost_to_recall_in_dollers\n",
       "0            648                       311                  248800.00\n",
       "1            641                        19                   16264.00\n",
       "2            415                      2246                 1078080.00\n",
       "3            776                    221097                    4421.94\n",
       "4              0                         6                    5562.00\n",
       "5           1074                      1602                  714492.00\n",
       "6           1654                        10                    8730.00\n",
       "7            835                       129                  117519.00\n",
       "8            776                     81775                 1308400.00\n",
       "9              0                         6                    4872.00"
      ]
     },
     "execution_count": 10,
     "metadata": {},
     "output_type": "execute_result"
    }
   ],
   "source": [
    "df_openFDA[num_col].head(10)"
   ]
  },
  {
   "cell_type": "code",
   "execution_count": 11,
   "metadata": {},
   "outputs": [
    {
     "data": {
      "text/html": [
       "<div>\n",
       "<style scoped>\n",
       "    .dataframe tbody tr th:only-of-type {\n",
       "        vertical-align: middle;\n",
       "    }\n",
       "\n",
       "    .dataframe tbody tr th {\n",
       "        vertical-align: top;\n",
       "    }\n",
       "\n",
       "    .dataframe thead th {\n",
       "        text-align: right;\n",
       "    }\n",
       "</style>\n",
       "<table border=\"1\" class=\"dataframe\">\n",
       "  <thead>\n",
       "    <tr style=\"text-align: right;\">\n",
       "      <th></th>\n",
       "      <th>time_duration</th>\n",
       "      <th>product_quantity_cleaned</th>\n",
       "      <th>cost_to_recall_in_dollars</th>\n",
       "    </tr>\n",
       "  </thead>\n",
       "  <tbody>\n",
       "    <tr>\n",
       "      <th>0</th>\n",
       "      <td>0.202055</td>\n",
       "      <td>2.325133e-06</td>\n",
       "      <td>0.037202</td>\n",
       "    </tr>\n",
       "    <tr>\n",
       "      <th>1</th>\n",
       "      <td>0.199875</td>\n",
       "      <td>1.420499e-07</td>\n",
       "      <td>0.002432</td>\n",
       "    </tr>\n",
       "    <tr>\n",
       "      <th>2</th>\n",
       "      <td>0.129514</td>\n",
       "      <td>1.679179e-05</td>\n",
       "      <td>0.161201</td>\n",
       "    </tr>\n",
       "    <tr>\n",
       "      <th>3</th>\n",
       "      <td>0.241905</td>\n",
       "      <td>1.652990e-03</td>\n",
       "      <td>0.000661</td>\n",
       "    </tr>\n",
       "    <tr>\n",
       "      <th>4</th>\n",
       "      <td>0.000311</td>\n",
       "      <td>4.485786e-08</td>\n",
       "      <td>0.000832</td>\n",
       "    </tr>\n",
       "    <tr>\n",
       "      <th>5</th>\n",
       "      <td>0.334682</td>\n",
       "      <td>1.197705e-05</td>\n",
       "      <td>0.106835</td>\n",
       "    </tr>\n",
       "    <tr>\n",
       "      <th>6</th>\n",
       "      <td>0.515255</td>\n",
       "      <td>7.476310e-08</td>\n",
       "      <td>0.001305</td>\n",
       "    </tr>\n",
       "    <tr>\n",
       "      <th>7</th>\n",
       "      <td>0.260274</td>\n",
       "      <td>9.644440e-07</td>\n",
       "      <td>0.017572</td>\n",
       "    </tr>\n",
       "    <tr>\n",
       "      <th>8</th>\n",
       "      <td>0.241905</td>\n",
       "      <td>6.113753e-04</td>\n",
       "      <td>0.195640</td>\n",
       "    </tr>\n",
       "    <tr>\n",
       "      <th>9</th>\n",
       "      <td>0.000311</td>\n",
       "      <td>4.485786e-08</td>\n",
       "      <td>0.000728</td>\n",
       "    </tr>\n",
       "  </tbody>\n",
       "</table>\n",
       "</div>"
      ],
      "text/plain": [
       "   time_duration  product_quantity_cleaned  cost_to_recall_in_dollars\n",
       "0       0.202055              2.325133e-06                   0.037202\n",
       "1       0.199875              1.420499e-07                   0.002432\n",
       "2       0.129514              1.679179e-05                   0.161201\n",
       "3       0.241905              1.652990e-03                   0.000661\n",
       "4       0.000311              4.485786e-08                   0.000832\n",
       "5       0.334682              1.197705e-05                   0.106835\n",
       "6       0.515255              7.476310e-08                   0.001305\n",
       "7       0.260274              9.644440e-07                   0.017572\n",
       "8       0.241905              6.113753e-04                   0.195640\n",
       "9       0.000311              4.485786e-08                   0.000728"
      ]
     },
     "execution_count": 11,
     "metadata": {},
     "output_type": "execute_result"
    }
   ],
   "source": [
    "# Importing MinMaxScaler from sklearn.preprocessing\n",
    "from sklearn.preprocessing import MinMaxScaler\n",
    "\n",
    "# Creating an instance of MinMaxScaler\n",
    "scale = MinMaxScaler()\n",
    "\n",
    "# Scaling the selected numeric columns (num_col) in the DataFrame (df_openFDA)\n",
    "df_scaled = scale.fit_transform(df_openFDA[num_col])\n",
    "\n",
    "# Creating a new DataFrame with the scaled data and specifying column names\n",
    "df_scaled = pd.DataFrame(df_scaled, columns=['time_duration', 'product_quantity_cleaned', 'cost_to_recall_in_dollars'])\n",
    "\n",
    "# Displaying the first few rows of the scaled DataFrame\n",
    "df_scaled.head(10)\n"
   ]
  },
  {
   "cell_type": "markdown",
   "metadata": {},
   "source": [
    "### Hopkins Statistics check"
   ]
  },
  {
   "cell_type": "code",
   "execution_count": 12,
   "metadata": {},
   "outputs": [],
   "source": [
    "# Calculating the Hopkins statistic\n",
    "\n",
    "from sklearn.neighbors import NearestNeighbors\n",
    "from random import sample\n",
    "from numpy.random import uniform\n",
    "import numpy as np\n",
    "from math import isnan\n",
    " \n",
    "def hopkins(X):\n",
    "    d = X.shape[1]\n",
    "    #d = len(vars) # columns\n",
    "    n = len(X) # rows\n",
    "    m = int(0.1 * n) \n",
    "    nbrs = NearestNeighbors(n_neighbors=1).fit(X.values)\n",
    "    rand_X = sample(range(0, n, 1), m)\n",
    " \n",
    "    ujd = []\n",
    "    wjd = []\n",
    "\n",
    "    for j in range(0, m):\n",
    "        u_dist, _ = nbrs.kneighbors(uniform(np.amin(X,axis=0),\n",
    "                                            np.amax(X,axis=0),\n",
    "                                            d).reshape(1, -1), \n",
    "                                            2, \n",
    "                                            return_distance=True)\n",
    "        \n",
    "        ujd.append(u_dist[0][1])\n",
    "        \n",
    "        w_dist, _ = nbrs.kneighbors(X.iloc[rand_X[j]].values.reshape(1, -1),\n",
    "                                    2, \n",
    "                                    return_distance=True)\n",
    "        \n",
    "        wjd.append(w_dist[0][1])\n",
    " \n",
    "    H = sum(ujd) / (sum(ujd) + sum(wjd))\n",
    "    if isnan(H):\n",
    "        print(ujd, wjd)\n",
    "        H = 0\n",
    " \n",
    "    return H"
   ]
  },
  {
   "cell_type": "code",
   "execution_count": 13,
   "metadata": {},
   "outputs": [
    {
     "data": {
      "text/plain": [
       "0.9999715428735001"
      ]
     },
     "execution_count": 13,
     "metadata": {},
     "output_type": "execute_result"
    }
   ],
   "source": [
    "hopkins(df_openFDA[num_col])"
   ]
  },
  {
   "cell_type": "markdown",
   "metadata": {},
   "source": [
    "#### Inferences:\n",
    "- The value of hopkins Statistics is Close to 1, then we can reject the null hypothesis and conclude that the dataset is significantly a clusterable data."
   ]
  },
  {
   "cell_type": "markdown",
   "metadata": {},
   "source": [
    "### K-Mean Clustering\n",
    "To Choose the value of k, we have:\n",
    "- Elbow Curve-SSD\n",
    "- Sihouette Score "
   ]
  },
  {
   "cell_type": "markdown",
   "metadata": {},
   "source": [
    "#### Finding the optimal Number of Clusters\n",
    "- Elbow Curve-SSD"
   ]
  },
  {
   "cell_type": "code",
   "execution_count": 14,
   "metadata": {},
   "outputs": [
    {
     "name": "stdout",
     "output_type": "stream",
     "text": [
      "For n_clusters=2, the kmeans.inertia_ is 188.9794400104298\n",
      "For n_clusters=3, the kmeans.inertia_ is 139.17986995286267\n",
      "For n_clusters=4, the kmeans.inertia_ is 93.79484764712203\n",
      "For n_clusters=5, the kmeans.inertia_ is 66.94006242564409\n",
      "For n_clusters=6, the kmeans.inertia_ is 54.33631856698234\n",
      "For n_clusters=7, the kmeans.inertia_ is 45.19769612000924\n",
      "For n_clusters=8, the kmeans.inertia_ is 39.42466070201194\n",
      "For n_clusters=9, the kmeans.inertia_ is 33.662514158337224\n",
      "For n_clusters=10, the kmeans.inertia_ is 29.141113895179807\n"
     ]
    },
    {
     "data": {
      "image/png": "[encoded data removed]",
      "text/plain": [
       "<Figure size 640x480 with 1 Axes>"
      ]
     },
     "metadata": {},
     "output_type": "display_data"
    }
   ],
   "source": [
    "# Elbow-curve/SSD\n",
    "# Importing the KMeans module from sklearn\n",
    "from sklearn.cluster import KMeans\n",
    "\n",
    "# Initialize an empty list to store the sum of squared distances (SSD) for different values of k\n",
    "ssd = []\n",
    "\n",
    "# Loop through a range of values for k, from 2 to 10\n",
    "for k in range(2, 11):\n",
    "    # Create a KMeans model with k clusters and a maximum of 50 iterations\n",
    "    kmean = KMeans(n_clusters=k, max_iter=50).fit(df_scaled)\n",
    "    \n",
    "    # Calculate and append the sum of squared distances (inertia) to the ssd list\n",
    "    ssd.append([k, kmean.inertia_])\n",
    "    \n",
    "    # Print the inertia value for the current k\n",
    "    print(f\"For n_clusters={k}, the kmeans.inertia_ is {kmean.inertia_}\")\n",
    "\n",
    "# Create a DataFrame from the SSD data\n",
    "ssd = pd.DataFrame(ssd)\n",
    "\n",
    "# Plot the values of k against the corresponding sum of squared distances (SSD)\n",
    "plt.plot(ssd[0], ssd[1])\n",
    "plt.xlabel('Number of Clusters')\n",
    "plt.ylabel('Inertia')\n",
    "\n",
    "# Display the plot\n",
    "plt.show()"
   ]
  },
  {
   "cell_type": "markdown",
   "metadata": {},
   "source": [
    "#### Inferences:\n",
    "- From the elbow curve above we can see that we have a breakpoint at 4 and one breakpoint at 5"
   ]
  },
  {
   "cell_type": "markdown",
   "metadata": {},
   "source": [
    "#### Finding the optimal Number of Clusters\n",
    "- Silhouette Analysis"
   ]
  },
  {
   "cell_type": "code",
   "execution_count": 15,
   "metadata": {},
   "outputs": [
    {
     "name": "stdout",
     "output_type": "stream",
     "text": [
      "For n_clusters = 2, the Silhouette score is 0.5499675045592958\n",
      "For n_clusters = 3, the Silhouette score is 0.4828780118602133\n",
      "For n_clusters = 4, the Silhouette score is 0.5319711296604154\n",
      "For n_clusters = 5, the Silhouette score is 0.5398904798071446\n",
      "For n_clusters = 6, the Silhouette score is 0.4195510352477881\n",
      "For n_clusters = 7, the Silhouette score is 0.4116176296314651\n"
     ]
    },
    {
     "data": {
      "image/png": "[encoded data removed]",
      "text/plain": [
       "<Figure size 640x480 with 1 Axes>"
      ]
     },
     "metadata": {},
     "output_type": "display_data"
    }
   ],
   "source": [
    "# Import necessary libraries\n",
    "from sklearn.cluster import KMeans\n",
    "from sklearn.metrics import silhouette_score\n",
    "import pandas as pd\n",
    "import matplotlib.pyplot as plt\n",
    "\n",
    "# Initialize an empty list to store silhouette scores\n",
    "ss = []\n",
    "\n",
    "# Loop through a range of cluster numbers from 2 to 7\n",
    "for num_clusters in range(2, 8):\n",
    "    # Initialize KMeans with the specified number of clusters, maximum iterations, and a \n",
    "    # random state\n",
    "    kmeans = KMeans(n_clusters=num_clusters, max_iter=50, random_state=0).fit(df_scaled)\n",
    "\n",
    "    # Calculate the silhouette score for the current clustering\n",
    "    silhouette_avg = silhouette_score(df_scaled, kmeans.labels_)\n",
    "    \n",
    "    # Append the number of clusters and the corresponding silhouette score to the list\n",
    "    ss.append([num_clusters, silhouette_avg])\n",
    "\n",
    "    # Print the silhouette score for the current number of clusters\n",
    "    print(f\"For n_clusters = {num_clusters}, the Silhouette score is {silhouette_avg}\")\n",
    "\n",
    "# Create a DataFrame to store silhouette scores\n",
    "silhouette_df = pd.DataFrame(ss, columns=['Number of Clusters', 'Silhouette Score'])\n",
    "\n",
    "# Plot the silhouette scores\n",
    "plt.plot(silhouette_df['Number of Clusters'], silhouette_df['Silhouette Score'])\n",
    "plt.xlabel('Number of Clusters')\n",
    "plt.ylabel('Silhouette Score')\n",
    "plt.title('Silhouette Score vs. Number of Clusters')\n",
    "plt.show()\n"
   ]
  },
  {
   "cell_type": "markdown",
   "metadata": {},
   "source": [
    "#### Inferences:\n",
    "\n",
    "- From the plot of Silhouette score above, we can see that we have the maximum Silhouette Score at 3, Selecting k = 3"
   ]
  },
  {
   "cell_type": "code",
   "execution_count": 16,
   "metadata": {},
   "outputs": [
    {
     "data": {
      "text/html": [
       "<style>#sk-container-id-1 {color: black;}#sk-container-id-1 pre{padding: 0;}#sk-container-id-1 div.sk-toggleable {background-color: white;}#sk-container-id-1 label.sk-toggleable__label {cursor: pointer;display: block;width: 100%;margin-bottom: 0;padding: 0.3em;box-sizing: border-box;text-align: center;}#sk-container-id-1 label.sk-toggleable__label-arrow:before {content: \"▸\";float: left;margin-right: 0.25em;color: #696969;}#sk-container-id-1 label.sk-toggleable__label-arrow:hover:before {color: black;}#sk-container-id-1 div.sk-estimator:hover label.sk-toggleable__label-arrow:before {color: black;}#sk-container-id-1 div.sk-toggleable__content {max-height: 0;max-width: 0;overflow: hidden;text-align: left;background-color: #f0f8ff;}#sk-container-id-1 div.sk-toggleable__content pre {margin: 0.2em;color: black;border-radius: 0.25em;background-color: #f0f8ff;}#sk-container-id-1 input.sk-toggleable__control:checked~div.sk-toggleable__content {max-height: 200px;max-width: 100%;overflow: auto;}#sk-container-id-1 input.sk-toggleable__control:checked~label.sk-toggleable__label-arrow:before {content: \"▾\";}#sk-container-id-1 div.sk-estimator input.sk-toggleable__control:checked~label.sk-toggleable__label {background-color: #d4ebff;}#sk-container-id-1 div.sk-label input.sk-toggleable__control:checked~label.sk-toggleable__label {background-color: #d4ebff;}#sk-container-id-1 input.sk-hidden--visually {border: 0;clip: rect(1px 1px 1px 1px);clip: rect(1px, 1px, 1px, 1px);height: 1px;margin: -1px;overflow: hidden;padding: 0;position: absolute;width: 1px;}#sk-container-id-1 div.sk-estimator {font-family: monospace;background-color: #f0f8ff;border: 1px dotted black;border-radius: 0.25em;box-sizing: border-box;margin-bottom: 0.5em;}#sk-container-id-1 div.sk-estimator:hover {background-color: #d4ebff;}#sk-container-id-1 div.sk-parallel-item::after {content: \"\";width: 100%;border-bottom: 1px solid gray;flex-grow: 1;}#sk-container-id-1 div.sk-label:hover label.sk-toggleable__label {background-color: #d4ebff;}#sk-container-id-1 div.sk-serial::before {content: \"\";position: absolute;border-left: 1px solid gray;box-sizing: border-box;top: 0;bottom: 0;left: 50%;z-index: 0;}#sk-container-id-1 div.sk-serial {display: flex;flex-direction: column;align-items: center;background-color: white;padding-right: 0.2em;padding-left: 0.2em;position: relative;}#sk-container-id-1 div.sk-item {position: relative;z-index: 1;}#sk-container-id-1 div.sk-parallel {display: flex;align-items: stretch;justify-content: center;background-color: white;position: relative;}#sk-container-id-1 div.sk-item::before, #sk-container-id-1 div.sk-parallel-item::before {content: \"\";position: absolute;border-left: 1px solid gray;box-sizing: border-box;top: 0;bottom: 0;left: 50%;z-index: -1;}#sk-container-id-1 div.sk-parallel-item {display: flex;flex-direction: column;z-index: 1;position: relative;background-color: white;}#sk-container-id-1 div.sk-parallel-item:first-child::after {align-self: flex-end;width: 50%;}#sk-container-id-1 div.sk-parallel-item:last-child::after {align-self: flex-start;width: 50%;}#sk-container-id-1 div.sk-parallel-item:only-child::after {width: 0;}#sk-container-id-1 div.sk-dashed-wrapped {border: 1px dashed gray;margin: 0 0.4em 0.5em 0.4em;box-sizing: border-box;padding-bottom: 0.4em;background-color: white;}#sk-container-id-1 div.sk-label label {font-family: monospace;font-weight: bold;display: inline-block;line-height: 1.2em;}#sk-container-id-1 div.sk-label-container {text-align: center;}#sk-container-id-1 div.sk-container {/* jupyter's `normalize.less` sets `[hidden] { display: none; }` but bootstrap.min.css set `[hidden] { display: none !important; }` so we also need the `!important` here to be able to override the default hidden behavior on the sphinx rendered scikit-learn.org. See: https://github.com/scikit-learn/scikit-learn/issues/21755 */display: inline-block !important;position: relative;}#sk-container-id-1 div.sk-text-repr-fallback {display: none;}</style><div id=\"sk-container-id-1\" class=\"sk-top-container\"><div class=\"sk-text-repr-fallback\"><pre>KMeans(max_iter=50, n_clusters=3, random_state=0)</pre><b>In a Jupyter environment, please rerun this cell to show the HTML representation or trust the notebook. <br />On GitHub, the HTML representation is unable to render, please try loading this page with nbviewer.org.</b></div><div class=\"sk-container\" hidden><div class=\"sk-item\"><div class=\"sk-estimator sk-toggleable\"><input class=\"sk-toggleable__control sk-hidden--visually\" id=\"sk-estimator-id-1\" type=\"checkbox\" checked><label for=\"sk-estimator-id-1\" class=\"sk-toggleable__label sk-toggleable__label-arrow\">KMeans</label><div class=\"sk-toggleable__content\"><pre>KMeans(max_iter=50, n_clusters=3, random_state=0)</pre></div></div></div></div></div>"
      ],
      "text/plain": [
       "KMeans(max_iter=50, n_clusters=3, random_state=0)"
      ]
     },
     "execution_count": 16,
     "metadata": {},
     "output_type": "execute_result"
    }
   ],
   "source": [
    "# Import the KMeans clustering algorithm\n",
    "from sklearn.cluster import KMeans\n",
    "\n",
    "# Initialize KMeans with the number of clusters (K) set to 5, maximum iterations, \n",
    "# and a random state\n",
    "kmeans = KMeans(n_clusters=3, max_iter=50, random_state=0)\n",
    "\n",
    "# Fit the KMeans model to the scaled data (df_scaled)\n",
    "kmeans.fit(df_scaled)"
   ]
  },
  {
   "cell_type": "code",
   "execution_count": 17,
   "metadata": {},
   "outputs": [
    {
     "data": {
      "text/plain": [
       "8724"
      ]
     },
     "execution_count": 17,
     "metadata": {},
     "output_type": "execute_result"
    }
   ],
   "source": [
    "# Checking count of labels\n",
    "len(kmeans.labels_)"
   ]
  },
  {
   "cell_type": "code",
   "execution_count": 18,
   "metadata": {},
   "outputs": [
    {
     "data": {
      "text/plain": [
       "array([2, 2, 0, ..., 2, 0, 0])"
      ]
     },
     "execution_count": 18,
     "metadata": {},
     "output_type": "execute_result"
    }
   ],
   "source": [
    "# Checking labels\n",
    "kmeans.labels_"
   ]
  },
  {
   "cell_type": "code",
   "execution_count": 19,
   "metadata": {},
   "outputs": [
    {
     "data": {
      "text/html": [
       "<div>\n",
       "<style scoped>\n",
       "    .dataframe tbody tr th:only-of-type {\n",
       "        vertical-align: middle;\n",
       "    }\n",
       "\n",
       "    .dataframe tbody tr th {\n",
       "        vertical-align: top;\n",
       "    }\n",
       "\n",
       "    .dataframe thead th {\n",
       "        text-align: right;\n",
       "    }\n",
       "</style>\n",
       "<table border=\"1\" class=\"dataframe\">\n",
       "  <thead>\n",
       "    <tr style=\"text-align: right;\">\n",
       "      <th></th>\n",
       "      <th>state</th>\n",
       "      <th>root_cause_description</th>\n",
       "      <th>openfda.device_class</th>\n",
       "      <th>time_duration</th>\n",
       "      <th>event_month_posted</th>\n",
       "      <th>event_year_posted</th>\n",
       "      <th>day_of_week_posted</th>\n",
       "      <th>event_month_terminated</th>\n",
       "      <th>event_year_terminated</th>\n",
       "      <th>day_of_week_terminated</th>\n",
       "      <th>product_quantity_cleaned</th>\n",
       "      <th>cost_to_recall_in_dollers</th>\n",
       "      <th>distribution</th>\n",
       "      <th>cleaned_reason_for_recall</th>\n",
       "      <th>cleaned_product_description</th>\n",
       "      <th>cleaned_action</th>\n",
       "      <th>cluster_id</th>\n",
       "    </tr>\n",
       "  </thead>\n",
       "  <tbody>\n",
       "    <tr>\n",
       "      <th>0</th>\n",
       "      <td>IL</td>\n",
       "      <td>Device Design</td>\n",
       "      <td>Class II</td>\n",
       "      <td>648</td>\n",
       "      <td>11</td>\n",
       "      <td>2007</td>\n",
       "      <td>5</td>\n",
       "      <td>8</td>\n",
       "      <td>2009</td>\n",
       "      <td>2</td>\n",
       "      <td>311</td>\n",
       "      <td>248800.00</td>\n",
       "      <td>Worldwide distribution</td>\n",
       "      <td>biologic system corp camera pole may weaken an...</td>\n",
       "      <td>biologic system corp telescoping camera pole a...</td>\n",
       "      <td>biologic sent a safety alert letters dated  to...</td>\n",
       "      <td>2</td>\n",
       "    </tr>\n",
       "    <tr>\n",
       "      <th>1</th>\n",
       "      <td>WA</td>\n",
       "      <td>Software design</td>\n",
       "      <td>Class III</td>\n",
       "      <td>641</td>\n",
       "      <td>1</td>\n",
       "      <td>2009</td>\n",
       "      <td>0</td>\n",
       "      <td>10</td>\n",
       "      <td>2010</td>\n",
       "      <td>4</td>\n",
       "      <td>19</td>\n",
       "      <td>16264.00</td>\n",
       "      <td>Nationwide distribution</td>\n",
       "      <td>an issue associated with the timed scan applic...</td>\n",
       "      <td>neuviz dual multislice computed tomography ct ...</td>\n",
       "      <td>a letter was issued to customers prior to the ...</td>\n",
       "      <td>2</td>\n",
       "    </tr>\n",
       "    <tr>\n",
       "      <th>2</th>\n",
       "      <td>CA</td>\n",
       "      <td>Device Design</td>\n",
       "      <td>Class III</td>\n",
       "      <td>415</td>\n",
       "      <td>10</td>\n",
       "      <td>2009</td>\n",
       "      <td>0</td>\n",
       "      <td>11</td>\n",
       "      <td>2010</td>\n",
       "      <td>2</td>\n",
       "      <td>2246</td>\n",
       "      <td>1078080.00</td>\n",
       "      <td>Worldwide distribution</td>\n",
       "      <td>failure product can kink or ovalize which may ...</td>\n",
       "      <td>penumbra neuron delivery catheter   percutaneo...</td>\n",
       "      <td>the firm issued an urgent voluntary field remo...</td>\n",
       "      <td>0</td>\n",
       "    </tr>\n",
       "    <tr>\n",
       "      <th>3</th>\n",
       "      <td>IL</td>\n",
       "      <td>Device Design</td>\n",
       "      <td>Class II</td>\n",
       "      <td>776</td>\n",
       "      <td>10</td>\n",
       "      <td>2010</td>\n",
       "      <td>1</td>\n",
       "      <td>11</td>\n",
       "      <td>2012</td>\n",
       "      <td>0</td>\n",
       "      <td>221097</td>\n",
       "      <td>4421.94</td>\n",
       "      <td>Nationwide distribution</td>\n",
       "      <td>the fda sent a letter to baxter on april   ord...</td>\n",
       "      <td>baxter colleague single channel volumetric inf...</td>\n",
       "      <td>baxter healthcare corporation sent urgent prod...</td>\n",
       "      <td>2</td>\n",
       "    </tr>\n",
       "    <tr>\n",
       "      <th>4</th>\n",
       "      <td>CO</td>\n",
       "      <td>Labeling design</td>\n",
       "      <td>Class II</td>\n",
       "      <td>0</td>\n",
       "      <td>10</td>\n",
       "      <td>2011</td>\n",
       "      <td>0</td>\n",
       "      <td>10</td>\n",
       "      <td>2011</td>\n",
       "      <td>0</td>\n",
       "      <td>6</td>\n",
       "      <td>5562.00</td>\n",
       "      <td>Worldwide distribution</td>\n",
       "      <td>distal end of tactile probe may break off duri...</td>\n",
       "      <td>probe tactile left asm long \\npart s \\nmedtron...</td>\n",
       "      <td>medtronic sent an urgent product safety notice...</td>\n",
       "      <td>0</td>\n",
       "    </tr>\n",
       "  </tbody>\n",
       "</table>\n",
       "</div>"
      ],
      "text/plain": [
       "  state root_cause_description openfda.device_class  time_duration  \\\n",
       "0    IL          Device Design             Class II            648   \n",
       "1    WA        Software design            Class III            641   \n",
       "2    CA          Device Design            Class III            415   \n",
       "3    IL          Device Design             Class II            776   \n",
       "4    CO        Labeling design             Class II              0   \n",
       "\n",
       "   event_month_posted  event_year_posted  day_of_week_posted  \\\n",
       "0                  11               2007                   5   \n",
       "1                   1               2009                   0   \n",
       "2                  10               2009                   0   \n",
       "3                  10               2010                   1   \n",
       "4                  10               2011                   0   \n",
       "\n",
       "   event_month_terminated  event_year_terminated  day_of_week_terminated  \\\n",
       "0                       8                   2009                       2   \n",
       "1                      10                   2010                       4   \n",
       "2                      11                   2010                       2   \n",
       "3                      11                   2012                       0   \n",
       "4                      10                   2011                       0   \n",
       "\n",
       "   product_quantity_cleaned  cost_to_recall_in_dollers  \\\n",
       "0                       311                  248800.00   \n",
       "1                        19                   16264.00   \n",
       "2                      2246                 1078080.00   \n",
       "3                    221097                    4421.94   \n",
       "4                         6                    5562.00   \n",
       "\n",
       "              distribution                          cleaned_reason_for_recall  \\\n",
       "0   Worldwide distribution  biologic system corp camera pole may weaken an...   \n",
       "1  Nationwide distribution  an issue associated with the timed scan applic...   \n",
       "2   Worldwide distribution  failure product can kink or ovalize which may ...   \n",
       "3  Nationwide distribution  the fda sent a letter to baxter on april   ord...   \n",
       "4   Worldwide distribution  distal end of tactile probe may break off duri...   \n",
       "\n",
       "                         cleaned_product_description  \\\n",
       "0  biologic system corp telescoping camera pole a...   \n",
       "1  neuviz dual multislice computed tomography ct ...   \n",
       "2  penumbra neuron delivery catheter   percutaneo...   \n",
       "3  baxter colleague single channel volumetric inf...   \n",
       "4  probe tactile left asm long \\npart s \\nmedtron...   \n",
       "\n",
       "                                      cleaned_action  cluster_id  \n",
       "0  biologic sent a safety alert letters dated  to...           2  \n",
       "1  a letter was issued to customers prior to the ...           2  \n",
       "2  the firm issued an urgent voluntary field remo...           0  \n",
       "3  baxter healthcare corporation sent urgent prod...           2  \n",
       "4  medtronic sent an urgent product safety notice...           0  "
      ]
     },
     "execution_count": 19,
     "metadata": {},
     "output_type": "execute_result"
    }
   ],
   "source": [
    "# Assigning the labels\n",
    "df_openFDA['cluster_id'] = kmeans.labels_\n",
    "\n",
    "# Checking dataframe\n",
    "df_openFDA.head()"
   ]
  },
  {
   "cell_type": "code",
   "execution_count": 20,
   "metadata": {},
   "outputs": [
    {
     "data": {
      "text/plain": [
       "cluster_id\n",
       "0    5465\n",
       "2    2336\n",
       "1     923\n",
       "Name: count, dtype: int64"
      ]
     },
     "execution_count": 20,
     "metadata": {},
     "output_type": "execute_result"
    }
   ],
   "source": [
    "# Counting cluster_id value count\n",
    "df_openFDA['cluster_id'].value_counts()"
   ]
  },
  {
   "cell_type": "markdown",
   "metadata": {},
   "source": [
    "### Cluster Visualization"
   ]
  },
  {
   "cell_type": "code",
   "execution_count": 21,
   "metadata": {},
   "outputs": [
    {
     "data": {
      "image/png": "[encoded data removed]",
      "text/plain": [
       "<Figure size 1000x600 with 1 Axes>"
      ]
     },
     "metadata": {},
     "output_type": "display_data"
    }
   ],
   "source": [
    "# Set the figure size for the plot\n",
    "plt.figure(figsize=(10, 6))\n",
    "\n",
    "# Create a bar plot to visualize 'time_duration' across different clusters\n",
    "sns.barplot(x='cluster_id', y='time_duration', data=df_openFDA)\n",
    "\n",
    "# Display the plot\n",
    "plt.show()\n"
   ]
  },
  {
   "cell_type": "code",
   "execution_count": 22,
   "metadata": {},
   "outputs": [
    {
     "data": {
      "image/png": "[encoded data removed]",
      "text/plain": [
       "<Figure size 1000x600 with 1 Axes>"
      ]
     },
     "metadata": {},
     "output_type": "display_data"
    }
   ],
   "source": [
    "# Set the figure size for the plot\n",
    "plt.figure(figsize=(10, 6))\n",
    "\n",
    "# Create a bar plot to visualize 'product_quantity_cleaned' across different clusters\n",
    "sns.barplot(x = 'cluster_id', y = 'product_quantity_cleaned', data = df_openFDA)\n",
    "\n",
    "# Display the plot\n",
    "plt.show()"
   ]
  },
  {
   "cell_type": "code",
   "execution_count": 23,
   "metadata": {},
   "outputs": [
    {
     "data": {
      "image/png": "[encoded data removed]",
      "text/plain": [
       "<Figure size 1000x600 with 1 Axes>"
      ]
     },
     "metadata": {},
     "output_type": "display_data"
    }
   ],
   "source": [
    "# Set the figure size for the plot\n",
    "plt.figure(figsize=(10, 6))\n",
    "\n",
    "# Create a bar plot to visualize 'cost_to_recall_in_dollers' across different cluster\n",
    "sns.barplot(x = 'cluster_id', y = 'cost_to_recall_in_dollers', data = df_openFDA)\n",
    "\n",
    "# Display the plot\n",
    "plt.show()"
   ]
  },
  {
   "cell_type": "code",
   "execution_count": 24,
   "metadata": {},
   "outputs": [
    {
     "data": {
      "text/html": [
       "<div>\n",
       "<style scoped>\n",
       "    .dataframe tbody tr th:only-of-type {\n",
       "        vertical-align: middle;\n",
       "    }\n",
       "\n",
       "    .dataframe tbody tr th {\n",
       "        vertical-align: top;\n",
       "    }\n",
       "\n",
       "    .dataframe thead th {\n",
       "        text-align: right;\n",
       "    }\n",
       "</style>\n",
       "<table border=\"1\" class=\"dataframe\">\n",
       "  <thead>\n",
       "    <tr style=\"text-align: right;\">\n",
       "      <th></th>\n",
       "      <th>state</th>\n",
       "      <th>root_cause_description</th>\n",
       "      <th>openfda.device_class</th>\n",
       "      <th>time_duration</th>\n",
       "      <th>event_month_posted</th>\n",
       "      <th>event_year_posted</th>\n",
       "      <th>day_of_week_posted</th>\n",
       "      <th>event_month_terminated</th>\n",
       "      <th>event_year_terminated</th>\n",
       "      <th>day_of_week_terminated</th>\n",
       "      <th>product_quantity_cleaned</th>\n",
       "      <th>cost_to_recall_in_dollers</th>\n",
       "      <th>distribution</th>\n",
       "      <th>cleaned_reason_for_recall</th>\n",
       "      <th>cleaned_product_description</th>\n",
       "      <th>cleaned_action</th>\n",
       "      <th>cluster_id</th>\n",
       "    </tr>\n",
       "  </thead>\n",
       "  <tbody>\n",
       "    <tr>\n",
       "      <th>0</th>\n",
       "      <td>IL</td>\n",
       "      <td>Device Design</td>\n",
       "      <td>Class II</td>\n",
       "      <td>648</td>\n",
       "      <td>11</td>\n",
       "      <td>2007</td>\n",
       "      <td>5</td>\n",
       "      <td>8</td>\n",
       "      <td>2009</td>\n",
       "      <td>2</td>\n",
       "      <td>311</td>\n",
       "      <td>248800.00</td>\n",
       "      <td>Worldwide distribution</td>\n",
       "      <td>biologic system corp camera pole may weaken an...</td>\n",
       "      <td>biologic system corp telescoping camera pole a...</td>\n",
       "      <td>biologic sent a safety alert letters dated  to...</td>\n",
       "      <td>2</td>\n",
       "    </tr>\n",
       "    <tr>\n",
       "      <th>1</th>\n",
       "      <td>WA</td>\n",
       "      <td>Software design</td>\n",
       "      <td>Class III</td>\n",
       "      <td>641</td>\n",
       "      <td>1</td>\n",
       "      <td>2009</td>\n",
       "      <td>0</td>\n",
       "      <td>10</td>\n",
       "      <td>2010</td>\n",
       "      <td>4</td>\n",
       "      <td>19</td>\n",
       "      <td>16264.00</td>\n",
       "      <td>Nationwide distribution</td>\n",
       "      <td>an issue associated with the timed scan applic...</td>\n",
       "      <td>neuviz dual multislice computed tomography ct ...</td>\n",
       "      <td>a letter was issued to customers prior to the ...</td>\n",
       "      <td>2</td>\n",
       "    </tr>\n",
       "    <tr>\n",
       "      <th>2</th>\n",
       "      <td>CA</td>\n",
       "      <td>Device Design</td>\n",
       "      <td>Class III</td>\n",
       "      <td>415</td>\n",
       "      <td>10</td>\n",
       "      <td>2009</td>\n",
       "      <td>0</td>\n",
       "      <td>11</td>\n",
       "      <td>2010</td>\n",
       "      <td>2</td>\n",
       "      <td>2246</td>\n",
       "      <td>1078080.00</td>\n",
       "      <td>Worldwide distribution</td>\n",
       "      <td>failure product can kink or ovalize which may ...</td>\n",
       "      <td>penumbra neuron delivery catheter   percutaneo...</td>\n",
       "      <td>the firm issued an urgent voluntary field remo...</td>\n",
       "      <td>0</td>\n",
       "    </tr>\n",
       "    <tr>\n",
       "      <th>3</th>\n",
       "      <td>IL</td>\n",
       "      <td>Device Design</td>\n",
       "      <td>Class II</td>\n",
       "      <td>776</td>\n",
       "      <td>10</td>\n",
       "      <td>2010</td>\n",
       "      <td>1</td>\n",
       "      <td>11</td>\n",
       "      <td>2012</td>\n",
       "      <td>0</td>\n",
       "      <td>221097</td>\n",
       "      <td>4421.94</td>\n",
       "      <td>Nationwide distribution</td>\n",
       "      <td>the fda sent a letter to baxter on april   ord...</td>\n",
       "      <td>baxter colleague single channel volumetric inf...</td>\n",
       "      <td>baxter healthcare corporation sent urgent prod...</td>\n",
       "      <td>2</td>\n",
       "    </tr>\n",
       "    <tr>\n",
       "      <th>4</th>\n",
       "      <td>CO</td>\n",
       "      <td>Labeling design</td>\n",
       "      <td>Class II</td>\n",
       "      <td>0</td>\n",
       "      <td>10</td>\n",
       "      <td>2011</td>\n",
       "      <td>0</td>\n",
       "      <td>10</td>\n",
       "      <td>2011</td>\n",
       "      <td>0</td>\n",
       "      <td>6</td>\n",
       "      <td>5562.00</td>\n",
       "      <td>Worldwide distribution</td>\n",
       "      <td>distal end of tactile probe may break off duri...</td>\n",
       "      <td>probe tactile left asm long \\npart s \\nmedtron...</td>\n",
       "      <td>medtronic sent an urgent product safety notice...</td>\n",
       "      <td>0</td>\n",
       "    </tr>\n",
       "  </tbody>\n",
       "</table>\n",
       "</div>"
      ],
      "text/plain": [
       "  state root_cause_description openfda.device_class  time_duration  \\\n",
       "0    IL          Device Design             Class II            648   \n",
       "1    WA        Software design            Class III            641   \n",
       "2    CA          Device Design            Class III            415   \n",
       "3    IL          Device Design             Class II            776   \n",
       "4    CO        Labeling design             Class II              0   \n",
       "\n",
       "   event_month_posted  event_year_posted  day_of_week_posted  \\\n",
       "0                  11               2007                   5   \n",
       "1                   1               2009                   0   \n",
       "2                  10               2009                   0   \n",
       "3                  10               2010                   1   \n",
       "4                  10               2011                   0   \n",
       "\n",
       "   event_month_terminated  event_year_terminated  day_of_week_terminated  \\\n",
       "0                       8                   2009                       2   \n",
       "1                      10                   2010                       4   \n",
       "2                      11                   2010                       2   \n",
       "3                      11                   2012                       0   \n",
       "4                      10                   2011                       0   \n",
       "\n",
       "   product_quantity_cleaned  cost_to_recall_in_dollers  \\\n",
       "0                       311                  248800.00   \n",
       "1                        19                   16264.00   \n",
       "2                      2246                 1078080.00   \n",
       "3                    221097                    4421.94   \n",
       "4                         6                    5562.00   \n",
       "\n",
       "              distribution                          cleaned_reason_for_recall  \\\n",
       "0   Worldwide distribution  biologic system corp camera pole may weaken an...   \n",
       "1  Nationwide distribution  an issue associated with the timed scan applic...   \n",
       "2   Worldwide distribution  failure product can kink or ovalize which may ...   \n",
       "3  Nationwide distribution  the fda sent a letter to baxter on april   ord...   \n",
       "4   Worldwide distribution  distal end of tactile probe may break off duri...   \n",
       "\n",
       "                         cleaned_product_description  \\\n",
       "0  biologic system corp telescoping camera pole a...   \n",
       "1  neuviz dual multislice computed tomography ct ...   \n",
       "2  penumbra neuron delivery catheter   percutaneo...   \n",
       "3  baxter colleague single channel volumetric inf...   \n",
       "4  probe tactile left asm long \\npart s \\nmedtron...   \n",
       "\n",
       "                                      cleaned_action  cluster_id  \n",
       "0  biologic sent a safety alert letters dated  to...           2  \n",
       "1  a letter was issued to customers prior to the ...           2  \n",
       "2  the firm issued an urgent voluntary field remo...           0  \n",
       "3  baxter healthcare corporation sent urgent prod...           2  \n",
       "4  medtronic sent an urgent product safety notice...           0  "
      ]
     },
     "execution_count": 24,
     "metadata": {},
     "output_type": "execute_result"
    }
   ],
   "source": [
    "df_openFDA.head()"
   ]
  },
  {
   "cell_type": "code",
   "execution_count": 25,
   "metadata": {},
   "outputs": [],
   "source": [
    "# Calculate the mean values of selected columns grouped by 'cluster_id'\n",
    "cluster_means = df_openFDA[['time_duration', \n",
    "                            'product_quantity_cleaned', \n",
    "                            'cost_to_recall_in_dollers', \n",
    "                            'cluster_id']].groupby(by='cluster_id').mean()"
   ]
  },
  {
   "cell_type": "code",
   "execution_count": 26,
   "metadata": {},
   "outputs": [
    {
     "data": {
      "image/png": "[encoded data removed]",
      "text/plain": [
       "<Figure size 1500x600 with 1 Axes>"
      ]
     },
     "metadata": {},
     "output_type": "display_data"
    }
   ],
   "source": [
    "# Calculate and plot the mean values of selected columns grouped by 'cluster_id' using a bar plot\n",
    "cluster_means.plot(kind='bar', figsize=(15, 6))\n",
    "\n",
    "# Display the plot\n",
    "plt.show()"
   ]
  },
  {
   "cell_type": "code",
   "execution_count": 27,
   "metadata": {},
   "outputs": [
    {
     "data": {
      "text/plain": [
       "Index(['state', 'root_cause_description', 'openfda.device_class',\n",
       "       'time_duration', 'event_month_posted', 'event_year_posted',\n",
       "       'day_of_week_posted', 'event_month_terminated', 'event_year_terminated',\n",
       "       'day_of_week_terminated', 'product_quantity_cleaned',\n",
       "       'cost_to_recall_in_dollers', 'distribution',\n",
       "       'cleaned_reason_for_recall', 'cleaned_product_description',\n",
       "       'cleaned_action', 'cluster_id'],\n",
       "      dtype='object')"
      ]
     },
     "execution_count": 27,
     "metadata": {},
     "output_type": "execute_result"
    }
   ],
   "source": [
    "df_openFDA.columns"
   ]
  }
 ],
 "metadata": {
  "kernelspec": {
   "display_name": "openFDA",
   "language": "python",
   "name": "python3"
  },
  "language_info": {
   "codemirror_mode": {
    "name": "ipython",
    "version": 3
   },
   "file_extension": ".py",
   "mimetype": "text/x-python",
   "name": "python",
   "nbconvert_exporter": "python",
   "pygments_lexer": "ipython3",
   "version": "3.11.2"
  }
 },
 "nbformat": 4,
 "nbformat_minor": 2
}
